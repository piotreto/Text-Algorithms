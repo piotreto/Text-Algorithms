{
 "cells": [
  {
   "cell_type": "markdown",
   "metadata": {},
   "source": [
    "## String matching - lab 1"
   ]
  },
  {
   "cell_type": "code",
   "execution_count": 10,
   "metadata": {},
   "outputs": [],
   "source": [
    "from time import time"
   ]
  },
  {
   "cell_type": "markdown",
   "metadata": {},
   "source": [
    "#### Naive algorithm"
   ]
  },
  {
   "cell_type": "code",
   "execution_count": 6,
   "metadata": {},
   "outputs": [],
   "source": [
    "def naive_match(text, pattern):\n",
    "    n, m = len(text), len(pattern)\n",
    "    result = []\n",
    "    for s in range(0, n - m + 1):\n",
    "        if (pattern == text[s:s + len(pattern)]):\n",
    "            result.append(s)\n",
    "            \n",
    "    return result"
   ]
  },
  {
   "cell_type": "markdown",
   "metadata": {},
   "source": [
    "#### Finite Automata"
   ]
  },
  {
   "cell_type": "code",
   "execution_count": 7,
   "metadata": {},
   "outputs": [],
   "source": [
    "def fa_string_matching(text, pattern):\n",
    "    delta = transition_table(pattern)\n",
    "    q = 0\n",
    "    length = len(delta) - 1\n",
    "    result = []\n",
    "    for s in range(0, len(text)):\n",
    "        if text[s] in delta[q]:\n",
    "            q = delta[q][text[s]]\n",
    "            if(q == length):\n",
    "                result.append(s + 1 - q)\n",
    "        else:\n",
    "            q = 0\n",
    "    return result\n",
    "    \n",
    "        \n",
    "def transition_table(pattern):\n",
    "    M = len(pattern)\n",
    "    alphabet = set(pattern)\n",
    "    result = []\n",
    "    for q in range(0, M + 1):\n",
    "        result.append({})\n",
    "        for a in alphabet:\n",
    "            k = min(M, q + 1)\n",
    "            suffix = pattern[:q] + a\n",
    "            while k > 0 and pattern[:k] != suffix[q-k+1:]:\n",
    "                k -= 1\n",
    "            result[q][a] = k\n",
    "    return result  "
   ]
  },
  {
   "cell_type": "markdown",
   "metadata": {},
   "source": [
    "#### KMP"
   ]
  },
  {
   "cell_type": "code",
   "execution_count": 8,
   "metadata": {},
   "outputs": [],
   "source": [
    "def prefix_function(pattern):\n",
    "    pi = [0]\n",
    "    k = 0\n",
    "    for q in range(1, len(pattern)):\n",
    "        while(k > 0 and pattern[k] != pattern[q]):\n",
    "            k = pi[k-1]\n",
    "        if(pattern[k] == pattern[q]):\n",
    "            k = k + 1\n",
    "        pi.append(k)\n",
    "    return pi\n",
    "\n",
    "def kmp_string_matching(text, pattern):\n",
    "    result = []\n",
    "    pi = prefix_function(pattern)\n",
    "    q = 0\n",
    "    for i in range(0, len(text)):\n",
    "        while(q > 0 and pattern[q] != text[i]):\n",
    "            q = pi[q-1]\n",
    "        if(pattern[q] == text[i]):\n",
    "            q = q + 1\n",
    "        if(q == len(pattern)):\n",
    "            result.append(i + 1 - q)\n",
    "            q = pi[q-1]\n",
    "    return result"
   ]
  },
  {
   "cell_type": "markdown",
   "metadata": {},
   "source": [
    "#### Test with article"
   ]
  },
  {
   "cell_type": "code",
   "execution_count": 12,
   "metadata": {},
   "outputs": [
    {
     "name": "stdout",
     "output_type": "stream",
     "text": [
      "Check if all algorithms have same result\n",
      "True\n",
      "Lets measure how long did it take\n",
      "Naive match took 0.03514528274536133s\n",
      "Finite automation took 0.018488645553588867s\n",
      "KMP algorithm took 0.028649091720581055s\n"
     ]
    }
   ],
   "source": [
    "with open(\"test.txt\", \"r\") as file:\n",
    "    text = file.read()\n",
    "    pattern = \"Art\"\n",
    "    print(\"Check if all algorithms have same result\")\n",
    "    print(naive_match(text, pattern) == fa_string_matching(text, pattern) == kmp_string_matching(text, pattern))\n",
    "    print(\"Lets measure how long did it take\")\n",
    "    f = [(\"Naive match\", naive_match), (\"Finite automation\", fa_string_matching), (\"KMP algorithm\", kmp_string_matching)]\n",
    "    for name, method in f:\n",
    "        start = time()\n",
    "        method(text, pattern)\n",
    "        finish = time()\n",
    "        print(f\"{name} took {finish - start}s\")"
   ]
  },
  {
   "cell_type": "markdown",
   "metadata": {},
   "source": [
    "##### The complexity of naive-algorithm is O(m(n-m+1)), thats why we should use a FA algorithm or KMP that hava matching times linear. We have to remember about pre-procesing.Depends on a pattern, the preprocessing time of these two algorithm would differ. KMP is much more elegant for me and easier to understand.\n"
   ]
  },
  {
   "cell_type": "markdown",
   "metadata": {},
   "source": [
    "#### 4. The worst case of naive algorithm we get when text and pattern containts the same letter, for example \"B\""
   ]
  },
  {
   "cell_type": "code",
   "execution_count": 22,
   "metadata": {},
   "outputs": [],
   "source": [
    "# its just for ex3 (time without pre-processing)\n",
    "def kmp_string_matching_time(text, pattern):\n",
    "    result = []\n",
    "    pi = prefix_function(pattern)\n",
    "    start = time()\n",
    "    q = 0\n",
    "    for i in range(0, len(text)):\n",
    "        while(q > 0 and pattern[q] != text[i]):\n",
    "            q = pi[q-1]\n",
    "        if(pattern[q] == text[i]):\n",
    "            q = q + 1\n",
    "        if(q == len(pattern)):\n",
    "            result.append(i + 1 - q)\n",
    "            q = pi[q-1]\n",
    "    finish = time()\n",
    "    return finish - start\n",
    "def fa_string_matching_time(text, pattern):\n",
    "    delta = transition_table(pattern)\n",
    "    start = time()\n",
    "    q = 0\n",
    "    length = len(delta) - 1\n",
    "    result = []\n",
    "    for s in range(0, len(text)):\n",
    "        if text[s] in delta[q]:\n",
    "            q = delta[q][text[s]]\n",
    "            if(q == length):\n",
    "                result.append(s + 1 - q)\n",
    "        else:\n",
    "            q = 0\n",
    "    finish = time()\n",
    "    return finish - start\n",
    "def naive_match_time(text, pattern):\n",
    "    n, m = len(text), len(pattern)\n",
    "    start = time()\n",
    "    result = []\n",
    "    for s in range(0, n - m + 1):\n",
    "        if (pattern == text[s:s + len(pattern)]):\n",
    "            result.append(s)\n",
    "    finish = time()\n",
    "    return finish - start\n"
   ]
  },
  {
   "cell_type": "markdown",
   "metadata": {},
   "source": [
    "#### lets take pattern as a \"B\" * 100000 and text as a \"B\"* 1000000"
   ]
  },
  {
   "cell_type": "code",
   "execution_count": 42,
   "metadata": {},
   "outputs": [
    {
     "name": "stdout",
     "output_type": "stream",
     "text": [
      "Naive match took 5.183069944381714\n",
      "Finite automation took 0.1924726963043213\n",
      "KMP algorithm took 0.30113840103149414\n"
     ]
    }
   ],
   "source": [
    "pattern = \"B\" * 100000\n",
    "text = \"B\"* 1000000\n",
    "print(f\"Naive match took {naive_match_time(text, pattern)}\")\n",
    "print(f\"Finite automation took {fa_string_matching_time(text, pattern)}\")\n",
    "print(f\"KMP algorithm took {kmp_string_matching_time(text, pattern)}\")"
   ]
  },
  {
   "cell_type": "markdown",
   "metadata": {},
   "source": [
    "#### 5. Pre-procesing of a transisiton table depends on number of different chars. Thats why if we want to find worst case for fa algorithm, pathern must contains as much different chars as posible. To prove that, lets take as a example pattern = \"qwertyuiopasdfghjklzxcvbnm\" * 10"
   ]
  },
  {
   "cell_type": "code",
   "execution_count": 44,
   "metadata": {},
   "outputs": [
    {
     "name": "stdout",
     "output_type": "stream",
     "text": [
      "Pre-procesing of finite automate took 22.03469753265381\n",
      "Pre-procesing of finite automate took 0.0004942417144775391\n"
     ]
    }
   ],
   "source": [
    "pattern = \"qwertyuiopasdfghjklzxcvbnm\" * 100\n",
    "start = time()\n",
    "transition_table(pattern)\n",
    "finish = time()\n",
    "print(f\"Pre-procesing of finite automate took {finish - start}\")\n",
    "start = time()\n",
    "prefix_function(pattern)\n",
    "finish = time()\n",
    "print(f\"Pre-procesing of kmp algorithm took {finish - start}\")"
   ]
  },
  {
   "cell_type": "markdown",
   "metadata": {},
   "source": [
    "#### What a difference!"
   ]
  }
 ],
 "metadata": {
  "kernelspec": {
   "display_name": "Python 3",
   "language": "python",
   "name": "python3"
  },
  "language_info": {
   "codemirror_mode": {
    "name": "ipython",
    "version": 3
   },
   "file_extension": ".py",
   "mimetype": "text/x-python",
   "name": "python",
   "nbconvert_exporter": "python",
   "pygments_lexer": "ipython3",
   "version": "3.8.5"
  }
 },
 "nbformat": 4,
 "nbformat_minor": 4
}
