{
 "cells": [
  {
   "cell_type": "markdown",
   "metadata": {},
   "source": [
    "## String matching - lab 1"
   ]
  },
  {
   "cell_type": "markdown",
   "metadata": {},
   "source": [
    "#### naive algorithm"
   ]
  },
  {
   "cell_type": "code",
   "execution_count": 4,
   "metadata": {},
   "outputs": [
    {
     "name": "stdout",
     "output_type": "stream",
     "text": [
      "Pattern exist at index 0\n",
      "Pattern exist at index 5\n"
     ]
    },
    {
     "data": {
      "text/plain": [
       "2"
      ]
     },
     "execution_count": 4,
     "metadata": {},
     "output_type": "execute_result"
    }
   ],
   "source": [
    "def naive_match(text, pattern):\n",
    "    counter = 0\n",
    "    n, m = len(text), len(pattern)\n",
    "    for s in range(0, n - m + 1):\n",
    "        if (pattern == text[s:s + len(pattern)]):\n",
    "            print(f\"Pattern exist at index {s}\")\n",
    "            counter += 1\n",
    "    return counter\n",
    "\n",
    "text, pattern  = 'alamaala', 'ala'\n",
    "naive_match(text, pattern)\n"
   ]
  },
  {
   "cell_type": "markdown",
   "metadata": {},
   "source": [
    "#### finite automata"
   ]
  },
  {
   "cell_type": "code",
   "execution_count": null,
   "metadata": {},
   "outputs": [],
   "source": [
    "def fa_string_matching(text, delta):\n",
    "    counter = 0\n",
    "    q = 0\n",
    "    length = len(delta) - 1\n",
    "    for s in range(0, len(text)):\n",
    "        q = delta[q][text[s]]\n",
    "        if(q == length)\n",
    "        \n",
    "def delta(pattern):\n",
    "    "
   ]
  }
 ],
 "metadata": {
  "kernelspec": {
   "display_name": "Python 3",
   "language": "python",
   "name": "python3"
  },
  "language_info": {
   "codemirror_mode": {
    "name": "ipython",
    "version": 3
   },
   "file_extension": ".py",
   "mimetype": "text/x-python",
   "name": "python",
   "nbconvert_exporter": "python",
   "pygments_lexer": "ipython3",
   "version": "3.8.5"
  }
 },
 "nbformat": 4,
 "nbformat_minor": 4
}
